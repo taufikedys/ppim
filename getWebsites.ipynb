{
 "cells": [
  {
   "cell_type": "markdown",
   "metadata": {},
   "source": [
    "# http://bit.ly/crawl_web_ppim"
   ]
  },
  {
   "cell_type": "code",
   "execution_count": null,
   "metadata": {},
   "outputs": [],
   "source": [
    "# Installing Modules for Google Colab\n",
    "!wget https://raw.githubusercontent.com/taufikedys/ppim/master/taudata_web.py\n",
    "!mkdir data\n",
    "!wget -P data/ https://raw.githubusercontent.com/taufikedys/ppim/master/data/slang.dic\n",
    "!wget -P data/ https://raw.githubusercontent.com/taufikedys/ppim/master/data/stopwords_id.txt\n",
    "!wget -P data/ https://raw.githubusercontent.com/taufikedys/ppim/master/data/stopwords_en.txt\n",
    "!wget -P data/ https://raw.githubusercontent.com/taufikedys/ppim/master/data/stopwords_eng.txt\n",
    "!wget -P data/ https://raw.githubusercontent.com/taufikedys/ppim/master/data/all_indo_man_tag_corpus_model.crf.tagger\n",
    "!wget -P data/ https://raw.githubusercontent.com/taufikedys/ppim/master/data/kata_dasar.txt\n",
    "!wget -P data/ https://raw.githubusercontent.com/taufikedys/ppim/master/data/websites.txt\n",
    "!pip install unidecode\n",
    "!pip install textblob\n",
    "!pip install sastrawi\n",
    "!pip install spacy\n",
    "!pip install python-crfsuite\n",
    "!python -m spacy download en\n",
    "!python -m spacy download xx\n",
    "!python -m spacy download en_core_web_sm\n",
    "import nltk\n",
    "nltk.download('popular')"
   ]
  },
  {
   "cell_type": "code",
   "execution_count": 1,
   "metadata": {},
   "outputs": [],
   "source": [
    "import warnings; warnings.simplefilter('ignore')\n",
    "import taudata_web as tau\n",
    "import requests\n",
    "import urllib.request\n",
    "from urllib.request import Request, urlopen\n",
    "from bs4 import BeautifulSoup as bs\n",
    "from bs4.element import Comment\n",
    "from urllib3.exceptions import InsecureRequestWarning\n",
    "from requests.packages.urllib3.exceptions import InsecureRequestWarning\n",
    "import urllib3\n",
    "urllib3.disable_warnings(urllib3.exceptions.InsecureRequestWarning)\n",
    "requests.packages.urllib3.disable_warnings(InsecureRequestWarning)"
   ]
  },
  {
   "cell_type": "code",
   "execution_count": 2,
   "metadata": {},
   "outputs": [
    {
     "name": "stdout",
     "output_type": "stream",
     "text": [
      "['http://www.eramuslim.com', 'https://www.islamramah.co']\n"
     ]
    }
   ],
   "source": [
    "fSites = 'data/websites.txt'\n",
    "df = open(fSites,\"r\",encoding=\"utf-8\", errors='replace')\n",
    "webs = df.readlines()\n",
    "webs = [w.strip() for w in webs]\n",
    "df.close()\n",
    "print(webs)"
   ]
  },
  {
   "cell_type": "code",
   "execution_count": 3,
   "metadata": {},
   "outputs": [
    {
     "data": {
      "text/plain": [
       "{'User-Agent': 'Mozilla/5.0 (Windows NT 10.0; Win64; x64) AppleWebKit/537.36 (KHTML, like Gecko) Chrome/74.0.3729.169 Safari/537.36',\n",
       " 'Accept': 'text/html,application/xhtml+xml,application/xml;q=0.9,image/webp,*/*;q=0.8'}"
      ]
     },
     "execution_count": 3,
     "metadata": {},
     "output_type": "execute_result"
    }
   ],
   "source": [
    "headers = tau.getHeaders()\n",
    "headers"
   ]
  },
  {
   "cell_type": "code",
   "execution_count": 4,
   "metadata": {},
   "outputs": [],
   "source": [
    "data = []\n",
    "for url in webs:\n",
    "    req = Request(url, headers = headers) \n",
    "    doc = urlopen(req).read()\n",
    "    doc = tau.text_from_html(doc)\n",
    "    data.append(doc)"
   ]
  },
  {
   "cell_type": "code",
   "execution_count": 9,
   "metadata": {
    "scrolled": true
   },
   "outputs": [
    {
     "name": "stdout",
     "output_type": "stream",
     "text": [
      "             Indeks  Foto  Video                       Depan  Berita   Editorial  Dunia Islam  Palestina  Silaturrahim  Nasional  Info Umat  Historia  Catatan Redaksi    Oase Iman   Kisah  Dakwah Mancanegara    Peradaban   Ekonomi Syariah  Pemikiran Islam  Bercermin Pada Salaf  Sirah Tematik  Mukjizat Quran & Sunnah  Tafsir Fi Zhilalil Qur’an    Fokus   Analisa  Laporan Khusus  Tahukah Anda  Bincang-Bincang    Muslimah   Wanita Bicara  Inspirasi Wanita  Qur’anic Parenting  Lifestyle Muslimah  Kuliner    Hikmah   Tafakur  Bisnis itu Jihad    Pendidikan & Keluarga   Pendidikan  Keluarga  Konsultasi Pend. & Keluarga    Bisnis   Info Bisnis  Resensi Buku  Info Produk  Resensi  E-Market  E-Plaza    Ustadz   Ustadz Menjawab  Nasehat Ulama  Khutbah Jumat    Suara Langit   Penetrasi Ideologi  Ringan Berbobot  Menuju Kehidupan Sejati  Undangan ke Surga    Novel  Konsultasi   Klinik Sehat  Di Balik Konspirasi  Konsultasi Keluarga  Thibbun Nabawi  Konsultasi Arsitektur  Konsultasi Zakat  Wakaf          Senin, 23 Jumadil Awwal 1441 H / 20 Januari 2020                                         Senin, 20/01/2020 13:30:43  Sabar Balasannya Kemuliaan, Ini Penjelasannya         Senin, 20/01/2020 13:00:47  3 Tingkatan Ikhlas dalam Beribadah         Senin, 20/01/2020 12:30:07  Jalan Terang Menguak Pemilu yang Curang         Senin, 20/01/2020 12:00:10  Periode Kedua Jokowi Tak Sampai 2024         Senin, 20/01/2020 11:43:46  Anies Baswedan: Monas Akan Lebih Hijau         Senin, 20/01/2020 11:40:32  Merinding! Ular Masuk ke Celana Anak Tidur Terekam CCTV         Senin, 20/01/2020 11:30:06  Sains Modern Buktikan Kurma Nabi (Ajwa) Mampu Mencegah Kanker         Senin, 20/01/2020 11:00:11  Ini Daftar Aneka Subsidi Energi yang Dicabut di Era Jokowi         Senin, 20/01/2020 10:42:03  INILAH SAHABAT WANITA SEHAT MINYAK ZAITUN DAN HABBATUSSAUDA         Senin, 20/01/2020 10:31:37  Berkahi Umur Kita dengan MEMILIKI SAUNG VILLA KAMPUNG SAHABAT QUR’AN           Terbaru  Terpopuler      Sabar Balasannya Kemuliaan, Ini Penjelasannya    3 Tingkatan Ikhlas dalam Beribadah    Jalan Terang Menguak Pemilu yang Curang    Periode Kedua Jokowi Tak Sampai 2024    Anies Baswedan: Monas Akan Lebih Hijau    Merinding! Ular Masuk ke Celana Anak Tidur Terekam CCTV    Sains Modern Buktikan Kurma Nabi (Ajwa) Mampu Mencegah Kanker    Ini Daftar Aneka Subsidi Energi yang Dicabut di Era Jokowi    INILAH SAHABAT WANITA SEHAT MINYAK ZAITUN DAN HABBATUSSAUDA   Selengkapnya »       Periode Kedua Jokowi Tak Sampai 2024    Dinilai Asal Komentar, Raja Sunda Empire Ancam Ridwan Kamil    Iwan Sumule: Harun Masiku Tertangkap CCTV Bandara Soetta, Siapa Berbohong?    Jalan Terang Menguak Pemilu yang Curang    Kini Muncul Kesultanan Selaco di Tasikmalaya, Punya Istana Megah, Kabinet hingga Pejabat Daerah    Mengenal DWS, Sistem Peringatan Dini Banjir Dari Jepang Yang Dinyinyiri Penghuni Kolam    Menilik Sejarah Purworejo yang Diklaim sebagai Pusat Keraton Agung Sejagat    Risma Bilang Warga DKI Banyak Pindah ke Surabaya Gegara Asma    Bagaimana Cara Shalawat yang Diajarkan Nabi Muhammad?    Terjadi Gelombang PHK Besar-besaran Jika Omnibus Law Cipta Lapangan Kerja Disahkan                       Oase Iman    Bal’am, Nabi Yusuf, dan Penguasa    Nasihat Untuk Kita Semua  Kisah Hikmah Dari Seorang Jenderal  (Alm) Ust. Arifin Ilham: Allah Haramkan Surga Bagi Yang Curang!     Ustadz Menjawab    Doa dan Amalan untuk Orang Tua yang Sudah Meninggal    Hukum Mengenai Berzina Dengan Isteri Orang  Surat Yaasin Dibacakan Menjelang atau Setelah Kematian Seseorang?  Alasan Jin Merasuki Manusia     Dakwah Mancanegara    Lihat Kakaknya Salat, Ryo Tinggalkan Geng Motor dan Masuk Islam    Ibu Bersyahadat karena Anak Bahagia Mendengar Suara Adzan  Masjid Cambridge Jadi Saksi Bisu Konsultan Media Yusuf Islam Memeluk Islam  Kagum dengan Fakta Ilmiah Alquran Pemuda Ini Bersyahadat     Historia    Menilik Sejarah Purworejo yang Diklaim sebagai Pusat Keraton Agung Sejagat    Ada Kompi Kristen di Batalyon Hizbullah  Di Usia 25 Kartini Meninggal Karena Dibunuh? Inilah Kontroversi Jelang Kematiannya  Lewat Kapal Selam, Hitler Kirim Senjata Untuk Soekarno      Editorial  Jika Adil dan Jujur, Maka Otomatis akan Damai  Eramuslim.com – Setelah melewati proses kampanye pemilu dan pilpres yang mungkin terkeras dan terkacau dalam sejarah demokrasi di negeri ini,...      Catatan Redaksi  Jalan Diponegoro dan Jalan Kiai Mojo  Eramuslim.com – Sebelum menusukkan kerisnya ke atas langit untuk menggelorakan jihad akbar melawan penjajah Belanda, Diponegoro telah...      Suara Pembaca  Jika RKUHP Disahkan, Ningsih Tinampi Bisa Terancam Hukuman 3 Tahun Penjara  Eramuslim.com – Ningsih Tinampi mengaku memiliki ilmu gaib Al Fatihah untuk menyembuhkan beragam penyakit. Namanya melambung setelah praktek...     Berita      Senin, 20/01/2020 12:30:07   Jalan Terang Menguak Pemilu yang Curang      Senin, 20/01/2020 12:00:10   Periode Kedua Jokowi Tak Sampai 2024      Senin, 20/01/2020 11:43:46   Anies Baswedan: Monas Akan Lebih Hijau      Senin, 20/01/2020 11:40:32   Merinding! Ular Masuk ke Celana Anak Tidur Terekam CCTV          Senin, 20/01/2020 11:30:06   Sains Modern Buktikan Kurma Nabi (Ajwa) Mampu Mencegah Kanker      Senin, 20/01/2020 11:00:11   Ini Daftar Aneka Subsidi Energi yang Dicabut di Era Jokowi      Senin, 20/01/2020 10:31:37   Berkahi Umur Kita dengan MEMILIKI SAUNG VILLA KAMPUNG SAHABAT QUR’AN      Senin, 20/01/2020 10:00:58   Terjadi Gelombang PHK Besar-besaran Jika Omnibus Law Cipta Lapangan Kerja Disahkan          Senin, 20/01/2020 09:00:07   Subsidi Elpiji 3 Kg Dicabut, PDIP: Kalau Rakyat Mampu Beli, Why Not?      Senin, 20/01/2020 08:30:04   Fadli Zon: Utang Bikin Bangsa Bangkit Atau Bangkrut?      Senin, 20/01/2020 08:00:04   Mengenal DWS, Sistem Peringatan Dini Banjir Dari Jepang Yang Dinyinyiri Penghuni Kolam      Senin, 20/01/2020 07:30:22   Iwan Sumule: Harun Masiku Tertangkap CCTV Bandara Soetta, Siapa Berbohong?                          Simbologi    Prasasti Kohler, Bukti Yahudi Perangi Aceh     Nasehat Ulama    Ikutilah Ulama Yang Dibenci Kaum Kafir dan Munafik       Fokus      Tahukah Anda   Sains Modern Buktikan Kurma Nabi (Ajwa) Mampu Mencegah Kanker   Sains Alquran: Ikan Paus Biru Sanggup Jelajahi Lingkaran Dunia  Sains Alquran: Bawang Merah sebagai Obat       Laporan Khusus   Tragedi Malari, Rusuh Pertama Era Orde Baru yang Membumihanguskan Jakarta   Membaca Jaring Nine Dash di Laut Cina  Fakta Menyedihkan di Yaxing: ‘Pesantren’ (yang kata YM) di Xinjiang dan Punya 1.200 Santri          Analisa   Kerajaan di Negeri Republik   Chinaisasi di Madrasah demi Kepentingan Siapa?  Kasus Suap Wahyu Setiawan Hantui Hasil Pilpres 2019       Kristologi   Sanbenito, Topi Simbol Murtad Yang Dijadikan Simbol Perayaan Tahun Baru   Zakir Naik : Sebaik Apapun Orangnya, Kalau Kafir Tetap Masuk Neraka  Zakir Naik: Injil Juga Ajarkan Tauhid         Suara Langit   Baldatun Thayyibatun Wa Rabbun Ghofur  Pagi Beriman Sore Kafir, Sore Beriman Pagi Kafir  Doa di Bulan Ramadhan  Jangan Lewatkan Ramadhan Dengan Taubat  Dzikirlah Sebanyak Mungkin  Surga Dan Neraka Ad-Dajjal  Cukuplah Islam Menjadi Dien  Perbedaan Mu’min dengan Kafir  Ini Penyebab Umat Pecah: Muslim Pencari Ridha Pada Kaum Kuffar  Penyesalan Ahli Neraka Karena Masalah Ketaatan  Doa Saat Muslimin Terkepung Musuh  Surga Dan Neraka Sudah Tercipta Sejak Dahulu       Peradaban    Adakah Mazhab yang Lebih Unggul Dibanding Lainnya?    11 Istri Nabi Muhammad SAW yang Wajib Diteladani  Kejadian-kejadian saat Rasulullah Menerima Wahyu  Kisah Abu Sufyan, Sahabat Nabi Muhammad, Ketua Pemuda di Surga     Profil    Mengenal Singkat Sosok Imam Hambali    Abdullah bin Yasin Pendiri Kerajaan Murabitun  Shalahuddin Al-Ayyubi: Macan Perang Salib  Alfarabi, Komposer Besar Muslim Yang Tidak Cinta Dunia       Muslimah    Amalan Sunah Para Suami saat Istri Hamil supaya Bayi Lahir Selamat    Layakkah Panggilan Mesra Abi-Umi dalam Hubungan Suami-Istri?  Begini Cara Marahnya Seorang Istri yang Sesuai Sunah  Ini Jumlah Waktu Ideal untuk Balita dan Anak-Anak Memegang Layar     Resensi Buku    Resensi Buku : Diponegoro Bag 2: 1826-1830, Kisah Perjuangan VS Pengkhianatan    Resensi Buku : API Sejarah , Kini Hadir Kembali dalam Hardcover  Resensi Produk : Belajar Islam Shahih, Hanya Dengan 1 Flash Disk, Samudra Ilmu dan Sangat Bermanfaat, Segera Pesan!  Resensi Buku : Ensiklopedia Akhir Zaman, Patut Dimiliki      Rubrik Lainnya        Thibbun Nabawi    Madu Hitam Pahit, Mau Tahu Manfaatnya?  Madu hitam pahit adalah madu yang memiliki khasiat dan manfaat sebagai obat tradisional alternatif. Madu yang memiliki rasa pahit ini,  telah banyak digunakan sebagai suplemen kesehatan tubuh....    Mau Tahu Wangi Rasulullah SAW?  Menyusui adalah Tradisi yang Beradab  inilah Pola Makan Rasulullah SAW  Anda Flu Dan Pilek? Cobalah Beberapa Tips Di Bawah Ini Untuk Mengobati Penyakit Tersebut  More →     Klinik Sehat    INILAH SAHABAT WANITA SEHAT MINYAK ZAITUN DAN HABBATUSSAUDA  EramuslimAdvertorial – Manfaat Minyak Zaitun bagi wanita: Sebuah kajian ilmiah yang berjudul Olive oil biophenols and women’s health, yang disusun oleh Ivan Fistonic dan sekelompok ilmuwan...    APA MANFAAT HABBATUSSAUDA ? DIBUKA KEAGENAN DAN RESELLER HABBATS  MENGATASI STROKE DENGAN MINYAK ZAITUN  HABBATUSSAUDA PENAKLUK DARAH TINGGI  PENTINGNYA MENGATASI DIABETES DENGAN HERBAL  More →     Hikmah    Sabar Balasannya Kemuliaan, Ini Penjelasannya  Eramuslim – SYEKH Abu Abdullah Muhammad bin Shiddiq Al Ghumari Al Hasani menulis kitab berjudul Al Washiyyah Ash Shiddiqiyah yang berisikan pesan-pesan sufistik terutama bagi salik penempuh...    3 Tingkatan Ikhlas dalam Beribadah  Saat Orang Paling Miskin Membuat Nabi Muhammad Tertawa  Bagaimana Cara Shalawat yang Diajarkan Nabi Muhammad?  Tiga Jenis Riya, Kebaikan yang Dipamerkan  More →     Lifestyle    Sunat Anak Gemuk Tanpa Terapi Hormon  EramuslimAdvertorial Menurut survei yang dilakukan Rumah Sunat dr. Mahdian, yang merupakan jaringan pelayanan sunat di Indonesia, setiap tahun ada sekitar 11.000 anak yang datang ke Rumah Sunat dr....    Khitan Premium, Tanpa Antre di Rumah Sunat dr. Mahdian  Tak Perlu Takut Lagi, Kini Bisa Sunat Tanpa Suntik  Metode Modern Mahdian Klem  Berbagai Metode Sunat Modern di Rumah Sunat dr. Mahdian  More →     Keluarga    TIDAK KONSUMSI NARKOBA, MENGAPA TES NARKOBA POSITIF?  EramuslimAdvertorial – Mang Ajat agak kaget, lamaran pekerjaannya ditolak oleh perusahaan dia melamar. Padahal segala tes sudah dijalani dan lulus. Dari tes masuk, tes wawancara, tes psikologi...    SAKAU YANG MEMBUAT KACAU  KARENA GANJA LAKNAT, KOTAK INFAK PUN DISIKAT  MANTAN PECANDU NARKOBA? MASIH ADA JALAN !  KHUSUS BAGI ORANG TUA, KENALI TANDA ANAK KECANDUAN NARKOBA  More →     Wakaf    Inginkah Diri Anda Menjadi Sahabat Quran dan Muwakif Quran… ?  *SAHABAT QUR’AN* 💦 🔖 *Gerakan Perubahan* untuk generasi dalam pengadaan mushaf AlQur’an untuk negeri. *TAUKAH KITA..* ❓ ❐ *Keutamaan Wariskan AlQur’an* _“Sesungguhnya yang sampai...    Berdonasi Mengundang Rezeki  Sahabat Quran Nusantara Ajak Warganet Berdonasi Penyebaran Al Quran  Donasi Pembangunan Rumah Tahfidz Quran Usia Dini  Teddy Snada : Setiap Hari adalah Hari Ibu  More →     Konspirasi    Kemal Attaturk, Yahudi Yang Menyamar Sebagai Muslim  Siapa sebenarnya Mustafa Kemal Attaturk ? apakah dia seorang yahudi atau bukan, lalu apakah dia berjasa bagi bangsa Turki sehingga oleh beberapa buku sejarah ditulis sebagai bapak bangsa Turki ?    Benda keramat peninggalan Nabi Sulaiman AS  Mana Versi Yang Benar Dalam Tempat Turunnya Dajjal?  Program Freemasonry – Illuminati : Depopulation Program  Benarkah Tabut (the Ark Of Covenant) Masih Ada Sekarang ?  More →         Foto     Demo Besar-besaran di Santiago, Kaum Radikal Menyeret Patung-Patung Yesus ke Jalan     [Foto] 10 Potret Mesra Habibie dan Ainun ini Buktikan Cinta Abadi Itu Ada      Video     [Video] Pelajar India Pentaskan Aksi Ulang Penghancuran Masjid Babri     [Video] Orang Beriman Ingat Rasulullah Langsung Menangis, Beda Dengan Kaum Jahiliyah          Tweets by @eramuslim            Peluang      Pasang Iklan Anda di Sini  Website eramuslim.com, media Islam rujukan. Website eramuslim.com, media Islam rujukan.  www.eramuslim.com                   Copyright © 2020 eramuslim.com Media Islam Rujukan    Eramuslim. All rights reserved. Redaksi – Iklan – Tentang Kami – Disclaimer – Copyright   Seluruh artikel di situs Eramuslim.com boleh dicopy, diperbanyak dan disebarluaskan untuk dakwah bukan untuk komersil, dengan syarat mencantumkan sumbernya (www.eramuslim.com)  Email: [email protected]          "
     ]
    },
    {
     "name": "stdout",
     "output_type": "stream",
     "text": [
      "\n"
     ]
    }
   ],
   "source": [
    "print(data[0])"
   ]
  },
  {
   "cell_type": "markdown",
   "metadata": {},
   "source": [
    "# PreProcessing"
   ]
  },
  {
   "cell_type": "code",
   "execution_count": 10,
   "metadata": {},
   "outputs": [],
   "source": [
    "fSlang = 'data/slang.dic'\n",
    "stops, lemma = tau.LoadStopWords(lang='id')\n",
    "fix = tau.loadCorpus(file = fSlang, sep=':')"
   ]
  },
  {
   "cell_type": "code",
   "execution_count": 11,
   "metadata": {},
   "outputs": [],
   "source": [
    "cleanData = []\n",
    "for i, web in enumerate(data):\n",
    "    clean_web = tau.cleanText(web, fix=fix, lemma=lemma, stops = stops, min_charLen = 2, max_charLen = 12, fixTag= False, fixMix=True)\n",
    "    cleanData.append(clean_web)"
   ]
  },
  {
   "cell_type": "code",
   "execution_count": 12,
   "metadata": {},
   "outputs": [
    {
     "data": {
      "text/plain": [
       "'indeks foto video berita editorial dunia islam palestina silaturrahim nasional informasi umat historia catatan redaksi oase iman kisah dakwah mancanegara peradaban ekonomi syariah pemikiran islam bercermin salaf sirah tematik mukjizat quran sunnah tafsir fi zhilalil fokus analisa laporan khusus tahukah bincang-bincang muslimah wanita bicara inspirasi wanita parenting lifestyle muslimah kuliner hikmah tafakur bisnis jihad pendidikan keluarga pendidikan keluarga konsultasi pend. keluarga bisnis informasi bisnis resensi buku informasi produk resensi market plaza ustadz ustadz nasehat ulama khutbah jumat suara langit penetrasi ideologi ringan berbobot kehidupan sejati undangan kah surga novel konsultasi klinik sehat konspirasi konsultasi keluarga thibbun nabawi konsultasi arsitektur konsultasi zakat wakaf senin jumadil awwal januari senin sabar balasannya kemuliaan penjelasannya senin tingkatan ikhlas beribadah senin jalan terang menguak pemilihan curang senin periode jokowi tidak senin an'"
      ]
     },
     "execution_count": 12,
     "metadata": {},
     "output_type": "execute_result"
    }
   ],
   "source": [
    "cleanData[0][:1000]"
   ]
  },
  {
   "cell_type": "markdown",
   "metadata": {},
   "source": [
    "# Document Summarization Technique"
   ]
  },
  {
   "cell_type": "code",
   "execution_count": 15,
   "metadata": {},
   "outputs": [
    {
     "data": {
      "text/plain": [
       "['Ular Masuk ke Celana Anak Tidur Terekam CCTV         Senin, 20/01/2020 11:30:06  Sains Modern Buktikan Kurma Nabi (Ajwa) Mampu Mencegah Kanker         Senin, 20/01/2020 11:00:11  Ini Daftar Aneka Subsidi Energi yang Dicabut di Era Jokowi         Senin, 20/01/2020 10:42:03  INILAH SAHABAT WANITA SEHAT MINYAK ZAITUN DAN HABBATUSSAUDA         Senin, 20/01/2020 10:31:37  Berkahi Umur Kita dengan MEMILIKI SAUNG VILLA KAMPUNG SAHABAT QUR’AN           Terbaru  Terpopuler      Sabar Balasannya Kemuliaan, Ini Penjelasannya    3 Tingkatan Ikhlas dalam Beribadah    Jalan Terang Menguak Pemilu yang Curang    Periode Kedua Jokowi Tak Sampai 2024    Anies Baswedan: Monas Akan Lebih Hijau    Merinding!',\n",
       " 'Ular Masuk ke Celana Anak Tidur Terekam CCTV    Sains Modern Buktikan Kurma Nabi (Ajwa) Mampu Mencegah Kanker    Ini Daftar Aneka Subsidi Energi yang Dicabut di Era Jokowi    INILAH SAHABAT WANITA SEHAT MINYAK ZAITUN DAN HABBATUSSAUDA   Selengkapnya »       Periode Kedua Jokowi Tak Sampai 2024    Dinilai Asal Komentar, Raja Sunda Empire Ancam Ridwan Kamil    Iwan Sumule: Harun Masiku Tertangkap CCTV Bandara Soetta, Siapa Berbohong?']"
      ]
     },
     "execution_count": 15,
     "metadata": {},
     "output_type": "execute_result"
    }
   ],
   "source": [
    "import warnings; warnings.simplefilter('ignore')\n",
    "from gensim.summarization import summarize\n",
    "\n",
    "summarize(data[0], split=True, ratio=0.05)"
   ]
  },
  {
   "cell_type": "code",
   "execution_count": 16,
   "metadata": {},
   "outputs": [
    {
     "data": {
      "text/plain": [
       "['ular masuk kah celana anak tidur terekam cctv senin sains modern buktikan kurma nabi ajwa mencegah kanker senin daftar aneka subsidi energi dicabut era jokowi senin sahabat wanita sehat minyak zaitun habbatussauda senin berkahi umur memiliki saung villa kampung sahabat terbaru terpopuler sabar balasannya kemuliaan penjelasannya tingkatan ikhlas beribadah jalan terang menguak pemilihan curang periode jokowi tidak anies baswedan monas hijau merinding.',\n",
       " 'ular masuk kah celana anak tidur terekam cctv sains modern buktikan kurma nabi ajwa mencegah kanker daftar aneka subsidi energi dicabut era jokowi sahabat wanita sehat minyak zaitun habbatussauda selengkapnya periode jokowi tidak dinilai komentar raja sunda empire ancam ridwan kamil iwan sumule harun masiku tertangkap cctv bandara soetta berbohong.']"
      ]
     },
     "execution_count": 16,
     "metadata": {},
     "output_type": "execute_result"
    }
   ],
   "source": [
    "summarize(cleanData[0], split=True, ratio=0.05)"
   ]
  },
  {
   "cell_type": "code",
   "execution_count": 17,
   "metadata": {},
   "outputs": [
    {
     "data": {
      "text/plain": [
       "['dan',\n",
       " 'pemilu yang',\n",
       " 'senin',\n",
       " 'untuk',\n",
       " 'ini',\n",
       " 'islam',\n",
       " 'kita dengan',\n",
       " 'anak',\n",
       " 'eramuslim',\n",
       " 'dalam',\n",
       " 'sebagai',\n",
       " 'jalan',\n",
       " 'nabi',\n",
       " 'quran',\n",
       " 'ada']"
      ]
     },
     "execution_count": 17,
     "metadata": {},
     "output_type": "execute_result"
    }
   ],
   "source": [
    "from gensim.summarization import keywords\n",
    "\n",
    "keywords(data[0]).split('\\n')[:15]"
   ]
  },
  {
   "cell_type": "code",
   "execution_count": 18,
   "metadata": {},
   "outputs": [
    {
     "data": {
      "text/plain": [
       "['senin',\n",
       " 'anak',\n",
       " 'sahabat',\n",
       " 'nabi',\n",
       " 'jalan',\n",
       " 'kah surga',\n",
       " 'sunat',\n",
       " 'quran',\n",
       " 'kaum kafir',\n",
       " 'sejarah',\n",
       " 'muhammad',\n",
       " 'konsultasi',\n",
       " 'rasulullah',\n",
       " 'resensi buku',\n",
       " 'memiliki']"
      ]
     },
     "execution_count": 18,
     "metadata": {},
     "output_type": "execute_result"
    }
   ],
   "source": [
    "keywords(cleanData[0]).split('\\n')[:15]"
   ]
  }
 ],
 "metadata": {
  "celltoolbar": "Slideshow",
  "kernelspec": {
   "display_name": "Python 3",
   "language": "python",
   "name": "python3"
  },
  "language_info": {
   "codemirror_mode": {
    "name": "ipython",
    "version": 3
   },
   "file_extension": ".py",
   "mimetype": "text/x-python",
   "name": "python",
   "nbconvert_exporter": "python",
   "pygments_lexer": "ipython3",
   "version": "3.6.8"
  }
 },
 "nbformat": 4,
 "nbformat_minor": 2
}
