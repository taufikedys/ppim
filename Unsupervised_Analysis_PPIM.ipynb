{
 "cells": [
  {
   "cell_type": "markdown",
   "metadata": {},
   "source": [
    "# Unsupervised Analysis - *twitter* - Kehidupan Beragama (Islam) 2009-2019\n",
    "\n",
    "0. Data Basic Statistics:\n",
    " - Data sizes: tweets, users, followers info, location Info, tweets/year\n",
    " - Sampling\n",
    " - HashTags analysis\n",
    " - Filtering\n",
    " \n",
    "1. Label Analysis:\n",
    " - Frequency\n",
    " - Text Analytics\n",
    " - Jaccard Distance in Labeled Data\n",
    "\n",
    "2. Location Analysis:\n",
    " - All years\n",
    " - All Years + Category\n",
    " - Per year 2009-2019\n",
    " \n",
    "3. Topic Modelling\n",
    " - All Year\n",
    " - Per year 2009-2019\n",
    " \n",
    "4. Social Network Analysis\n",
    " - All Years Followers: Centrality by Degree, Total engagement, mean engagement\n",
    " - All Years Mention: Centrality by Degree, Total engagement, mean engagement\n",
    " - Per Year Follower: eigen\n",
    " - Per Year Mention: eigen"
   ]
  },
  {
   "cell_type": "code",
   "execution_count": null,
   "metadata": {},
   "outputs": [],
   "source": []
  },
  {
   "cell_type": "code",
   "execution_count": 1,
   "metadata": {},
   "outputs": [],
   "source": [
    "import warnings; warnings.simplefilter('ignore')\n",
    "import taudata_crawl_tweet as tau, re, pickle, os, networkx as nx\n",
    "import pandas as pd, numpy as np, seaborn as sns, bz2, time, chardet\n",
    "from scipy import stats\n",
    "from shutil import copyfileobj\n",
    "from tqdm import tqdm_notebook as tqdm\n",
    "from textblob import TextBlob\n",
    "import taudata as tau2"
   ]
  },
  {
   "cell_type": "markdown",
   "metadata": {},
   "source": [
    "# Explanation Filtering Method"
   ]
  },
  {
   "cell_type": "markdown",
   "metadata": {},
   "source": [
    "# Importing Data"
   ]
  },
  {
   "cell_type": "code",
   "execution_count": 7,
   "metadata": {},
   "outputs": [
    {
     "name": "stdout",
     "output_type": "stream",
     "text": [
      "Labeled Data: \n",
      "Loading All Tweets ... \n",
      "2nd level whitelisted usernames\n",
      "3rd level whitelisted usernames\n",
      "4th level whitelisted usernames\n",
      "Filtered Tweets: \n",
      "Loading All Users ... \n",
      "Loading Filtered Users ... \n",
      "Loading Filtered Followers Information: ... \n"
     ]
    },
    {
     "data": {
      "text/plain": [
       "'Done'"
      ]
     },
     "execution_count": 7,
     "metadata": {},
     "output_type": "execute_result"
    }
   ],
   "source": [
    "print('Labeled Data: ')\n",
    "with open('data/Tweet_Labels.csv', 'rb') as f:\n",
    "    result = chardet.detect(f.readline())  # or readline if the file is large\n",
    "data_Labelled = pd.read_csv('data/Tweet_Labels.csv', error_bad_lines=False, low_memory = False, encoding=result['encoding'])\n",
    "\n",
    "print('Loading All Tweets ... ')\n",
    "try:\n",
    "    f = open('data/AllTweets.pckl', 'rb')\n",
    "    all_data = pickle.load(f); f.close()\n",
    "except:\n",
    "    pass\n",
    "\n",
    "print('2nd level whitelisted usernames')\n",
    "try:\n",
    "    f = open('data/whitelist_2nd_Level.pckl', 'rb')\n",
    "    whitelist_2nd = pickle.load(f); f.close()\n",
    "except:\n",
    "    pass\n",
    "\n",
    "print('3rd level whitelisted usernames')\n",
    "try:\n",
    "    f = open('data/whitelist_3rd_Level.pckl', 'rb')\n",
    "    whitelist_3rd = pickle.load(f); f.close()\n",
    "except:\n",
    "    pass\n",
    "\n",
    "print('4th level whitelisted usernames')\n",
    "try:\n",
    "    f = open('data/whitelist_4th_Level.pckl', 'rb')\n",
    "    whitelist = pickle.load(f); f.close()\n",
    "except:\n",
    "    pass\n",
    "\n",
    "print('Filtered Tweets: ')\n",
    "try:\n",
    "    f = open('data/FilteredTweets.pckl', 'rb')\n",
    "    filteredTweets = pickle.load(f); f.close()\n",
    "except:\n",
    "    pass\n",
    "\n",
    "print('Loading All Users ... ')\n",
    "try:\n",
    "    f = open('data/AllUsers.pckl', 'rb')\n",
    "    users = pickle.load(f); f.close()\n",
    "except:\n",
    "    pass\n",
    "\n",
    "print('Loading Filtered Users ... ')\n",
    "try:\n",
    "    f = open('data/FilteredUsers.pckl', 'rb')\n",
    "    FilteredUsers = pickle.load(f); f.close()\n",
    "except:\n",
    "    pass\n",
    "\n",
    "print('Loading Filtered Followers Information: ... ')\n",
    "try:\n",
    "    f = open('data/FilteredFollowers.pckl', 'rb')\n",
    "    FilteredFollowers = pickle.load(f); f.close()\n",
    "except:\n",
    "    pass\n",
    "\n",
    "'Done'"
   ]
  },
  {
   "cell_type": "code",
   "execution_count": 8,
   "metadata": {},
   "outputs": [
    {
     "name": "stdout",
     "output_type": "stream",
     "text": [
      "Total Number of Tweets =  1939777\n",
      "Total Number of Distinct Users =  715888\n",
      "Total Number of Filtered Followers Information =  6906946\n"
     ]
    }
   ],
   "source": [
    "print('Total Number of Tweets = ', all_data.shape[0])\n",
    "print('Total Number of Distinct Users = ', users.shape[0])\n",
    "print('Total Number of Filtered Followers Information = ', FilteredFollowers.shape[0]*2)"
   ]
  },
  {
   "cell_type": "markdown",
   "metadata": {},
   "source": [
    "# Data Basic Statistics"
   ]
  },
  {
   "cell_type": "code",
   "execution_count": 15,
   "metadata": {},
   "outputs": [
    {
     "data": {
      "text/html": [
       "<div>\n",
       "<style scoped>\n",
       "    .dataframe tbody tr th:only-of-type {\n",
       "        vertical-align: middle;\n",
       "    }\n",
       "\n",
       "    .dataframe tbody tr th {\n",
       "        vertical-align: top;\n",
       "    }\n",
       "\n",
       "    .dataframe thead th {\n",
       "        text-align: right;\n",
       "    }\n",
       "</style>\n",
       "<table border=\"1\" class=\"dataframe\">\n",
       "  <thead>\n",
       "    <tr style=\"text-align: right;\">\n",
       "      <th></th>\n",
       "      <th>screen_name</th>\n",
       "      <th>nretweets</th>\n",
       "      <th>nlikes</th>\n",
       "      <th>nreplies</th>\n",
       "    </tr>\n",
       "  </thead>\n",
       "  <tbody>\n",
       "    <tr>\n",
       "      <th>count</th>\n",
       "      <td>1262387</td>\n",
       "      <td>173770.000000</td>\n",
       "      <td>1.737700e+05</td>\n",
       "      <td>173770.000000</td>\n",
       "    </tr>\n",
       "    <tr>\n",
       "      <th>unique</th>\n",
       "      <td>347288</td>\n",
       "      <td>NaN</td>\n",
       "      <td>NaN</td>\n",
       "      <td>NaN</td>\n",
       "    </tr>\n",
       "    <tr>\n",
       "      <th>top</th>\n",
       "      <td>RIBA</td>\n",
       "      <td>NaN</td>\n",
       "      <td>NaN</td>\n",
       "      <td>NaN</td>\n",
       "    </tr>\n",
       "    <tr>\n",
       "      <th>freq</th>\n",
       "      <td>8461</td>\n",
       "      <td>NaN</td>\n",
       "      <td>NaN</td>\n",
       "      <td>NaN</td>\n",
       "    </tr>\n",
       "    <tr>\n",
       "      <th>mean</th>\n",
       "      <td>NaN</td>\n",
       "      <td>32.063843</td>\n",
       "      <td>5.256295e+01</td>\n",
       "      <td>7.439224</td>\n",
       "    </tr>\n",
       "    <tr>\n",
       "      <th>std</th>\n",
       "      <td>NaN</td>\n",
       "      <td>1668.006124</td>\n",
       "      <td>4.962711e+03</td>\n",
       "      <td>516.719645</td>\n",
       "    </tr>\n",
       "    <tr>\n",
       "      <th>min</th>\n",
       "      <td>NaN</td>\n",
       "      <td>0.000000</td>\n",
       "      <td>0.000000e+00</td>\n",
       "      <td>0.000000</td>\n",
       "    </tr>\n",
       "    <tr>\n",
       "      <th>25%</th>\n",
       "      <td>NaN</td>\n",
       "      <td>0.000000</td>\n",
       "      <td>0.000000e+00</td>\n",
       "      <td>0.000000</td>\n",
       "    </tr>\n",
       "    <tr>\n",
       "      <th>50%</th>\n",
       "      <td>NaN</td>\n",
       "      <td>0.000000</td>\n",
       "      <td>0.000000e+00</td>\n",
       "      <td>0.000000</td>\n",
       "    </tr>\n",
       "    <tr>\n",
       "      <th>75%</th>\n",
       "      <td>NaN</td>\n",
       "      <td>2.000000</td>\n",
       "      <td>0.000000e+00</td>\n",
       "      <td>0.000000</td>\n",
       "    </tr>\n",
       "    <tr>\n",
       "      <th>max</th>\n",
       "      <td>NaN</td>\n",
       "      <td>669105.000000</td>\n",
       "      <td>2.021600e+06</td>\n",
       "      <td>208249.000000</td>\n",
       "    </tr>\n",
       "  </tbody>\n",
       "</table>\n",
       "</div>"
      ],
      "text/plain": [
       "       screen_name      nretweets        nlikes       nreplies\n",
       "count      1262387  173770.000000  1.737700e+05  173770.000000\n",
       "unique      347288            NaN           NaN            NaN\n",
       "top           RIBA            NaN           NaN            NaN\n",
       "freq          8461            NaN           NaN            NaN\n",
       "mean           NaN      32.063843  5.256295e+01       7.439224\n",
       "std            NaN    1668.006124  4.962711e+03     516.719645\n",
       "min            NaN       0.000000  0.000000e+00       0.000000\n",
       "25%            NaN       0.000000  0.000000e+00       0.000000\n",
       "50%            NaN       0.000000  0.000000e+00       0.000000\n",
       "75%            NaN       2.000000  0.000000e+00       0.000000\n",
       "max            NaN  669105.000000  2.021600e+06  208249.000000"
      ]
     },
     "execution_count": 15,
     "metadata": {},
     "output_type": "execute_result"
    }
   ],
   "source": [
    "filteredTweets[['screen_name', 'nretweets', 'nlikes', 'nreplies']].describe(include='all')"
   ]
  },
  {
   "cell_type": "code",
   "execution_count": 17,
   "metadata": {},
   "outputs": [
    {
     "data": {
      "text/html": [
       "<div>\n",
       "<style scoped>\n",
       "    .dataframe tbody tr th:only-of-type {\n",
       "        vertical-align: middle;\n",
       "    }\n",
       "\n",
       "    .dataframe tbody tr th {\n",
       "        vertical-align: top;\n",
       "    }\n",
       "\n",
       "    .dataframe thead th {\n",
       "        text-align: right;\n",
       "    }\n",
       "</style>\n",
       "<table border=\"1\" class=\"dataframe\">\n",
       "  <thead>\n",
       "    <tr style=\"text-align: right;\">\n",
       "      <th></th>\n",
       "      <th>followers_count</th>\n",
       "      <th>statuses_count</th>\n",
       "    </tr>\n",
       "  </thead>\n",
       "  <tbody>\n",
       "    <tr>\n",
       "      <th>count</th>\n",
       "      <td>1.665200e+04</td>\n",
       "      <td>1.665200e+04</td>\n",
       "    </tr>\n",
       "    <tr>\n",
       "      <th>mean</th>\n",
       "      <td>3.270520e+04</td>\n",
       "      <td>3.102099e+04</td>\n",
       "    </tr>\n",
       "    <tr>\n",
       "      <th>std</th>\n",
       "      <td>3.112603e+05</td>\n",
       "      <td>8.263957e+04</td>\n",
       "    </tr>\n",
       "    <tr>\n",
       "      <th>min</th>\n",
       "      <td>0.000000e+00</td>\n",
       "      <td>1.000000e+00</td>\n",
       "    </tr>\n",
       "    <tr>\n",
       "      <th>25%</th>\n",
       "      <td>3.510000e+02</td>\n",
       "      <td>3.844750e+03</td>\n",
       "    </tr>\n",
       "    <tr>\n",
       "      <th>50%</th>\n",
       "      <td>9.410000e+02</td>\n",
       "      <td>1.213400e+04</td>\n",
       "    </tr>\n",
       "    <tr>\n",
       "      <th>75%</th>\n",
       "      <td>3.775500e+03</td>\n",
       "      <td>3.226425e+04</td>\n",
       "    </tr>\n",
       "    <tr>\n",
       "      <th>max</th>\n",
       "      <td>1.579483e+07</td>\n",
       "      <td>5.368762e+06</td>\n",
       "    </tr>\n",
       "  </tbody>\n",
       "</table>\n",
       "</div>"
      ],
      "text/plain": [
       "       followers_count  statuses_count\n",
       "count     1.665200e+04    1.665200e+04\n",
       "mean      3.270520e+04    3.102099e+04\n",
       "std       3.112603e+05    8.263957e+04\n",
       "min       0.000000e+00    1.000000e+00\n",
       "25%       3.510000e+02    3.844750e+03\n",
       "50%       9.410000e+02    1.213400e+04\n",
       "75%       3.775500e+03    3.226425e+04\n",
       "max       1.579483e+07    5.368762e+06"
      ]
     },
     "execution_count": 17,
     "metadata": {},
     "output_type": "execute_result"
    }
   ],
   "source": [
    "FilteredUsers[['followers_count', 'statuses_count']].describe(include='all')"
   ]
  },
  {
   "cell_type": "markdown",
   "metadata": {},
   "source": [
    "# Data Frequency based-on years"
   ]
  },
  {
   "cell_type": "code",
   "execution_count": 61,
   "metadata": {},
   "outputs": [
    {
     "data": {
      "application/vnd.jupyter.widget-view+json": {
       "model_id": "c5f54bb36a54454b8e39592b0c5bb015",
       "version_major": 2,
       "version_minor": 0
      },
      "text/plain": [
       "HBox(children=(IntProgress(value=1, bar_style='info', max=1), HTML(value='')))"
      ]
     },
     "metadata": {},
     "output_type": "display_data"
    },
    {
     "name": "stdout",
     "output_type": "stream",
     "text": [
      "\n"
     ]
    },
    {
     "data": {
      "text/plain": [
       "2012    333831\n",
       "2011    265287\n",
       "2013    251301\n",
       "2014    219562\n",
       "2015    170154\n",
       "2010    134559\n",
       "2018    131909\n",
       "2017    129973\n",
       "2016    129083\n",
       "2009     36618\n",
       "2019     18523\n",
       "Name: year, dtype: int64"
      ]
     },
     "execution_count": 61,
     "metadata": {},
     "output_type": "execute_result"
    },
    {
     "data": {
      "image/png": "[encoded data removed]",
      "text/plain": [
       "<Figure size 432x288 with 1 Axes>"
      ]
     },
     "metadata": {},
     "output_type": "display_data"
    }
   ],
   "source": [
    "years = list(map(str,range(2009,2020)))\n",
    "dty = {'year':[]}\n",
    "for i, d in tqdm(all_data.iterrows()):\n",
    "    for y in years:\n",
    "        if y in str(d.created_at):\n",
    "            dty['year'].append(y); break\n",
    "dty = pd.DataFrame.from_dict(dty)\n",
    "p = sns.countplot(x=\"year\", data=dty)\n",
    "dty['year'].value_counts()"
   ]
  },
  {
   "cell_type": "markdown",
   "metadata": {},
   "source": [
    "# Labeled Data Frequency"
   ]
  },
  {
   "cell_type": "code",
   "execution_count": 49,
   "metadata": {
    "scrolled": true
   },
   "outputs": [
    {
     "data": {
      "text/plain": [
       "0    49920\n",
       "3     5879\n",
       "2     1719\n",
       "1      849\n",
       "4      255\n",
       "5       65\n",
       "Name: label, dtype: int64"
      ]
     },
     "execution_count": 49,
     "metadata": {},
     "output_type": "execute_result"
    },
    {
     "data": {
      "image/png": "[encoded data removed]",
      "text/plain": [
       "<Figure size 432x288 with 1 Axes>"
      ]
     },
     "metadata": {},
     "output_type": "display_data"
    }
   ],
   "source": [
    "names = ['Iim', 'Yani', 'Endi', 'Fahmi', 'Aziz', 'Dita']\n",
    "cols = ['tweetID', 'screen_name', 'tweet']\n",
    "dt = {c:[] for c in cols}\n",
    "dt['label'] = []\n",
    "for i, d in data_Labelled.iterrows():\n",
    "    scores = [int(d[name]) for name in names if str(d[name]).isdigit()]\n",
    "    scores.sort(reverse = True) # Default to largest Category when Mode = NaN\n",
    "    try:\n",
    "        mode, freq = stats.mode(scores); mode = mode[0]\n",
    "    except:\n",
    "        mode = 0\n",
    "    if mode>5:\n",
    "        mode = 0\n",
    "    dt['label'].append(mode)\n",
    "    for c in cols:\n",
    "        dt[c].append(d[c])\n",
    "dt = pd.DataFrame.from_dict(dt)\n",
    "p = sns.countplot(x=\"label\", data=dt)\n",
    "dt['label'].value_counts()"
   ]
  },
  {
   "cell_type": "code",
   "execution_count": 59,
   "metadata": {},
   "outputs": [
    {
     "data": {
      "text/plain": [
       "2013"
      ]
     },
     "execution_count": 59,
     "metadata": {},
     "output_type": "execute_result"
    }
   ],
   "source": [
    "d.created_at.year"
   ]
  }
 ],
 "metadata": {
  "kernelspec": {
   "display_name": "Python 3",
   "language": "python",
   "name": "python3"
  },
  "language_info": {
   "codemirror_mode": {
    "name": "ipython",
    "version": 3
   },
   "file_extension": ".py",
   "mimetype": "text/x-python",
   "name": "python",
   "nbconvert_exporter": "python",
   "pygments_lexer": "ipython3",
   "version": "3.6.8"
  }
 },
 "nbformat": 4,
 "nbformat_minor": 2
}
